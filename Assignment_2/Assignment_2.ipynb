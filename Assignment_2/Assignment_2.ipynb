{
 "cells": [
  {
   "cell_type": "markdown",
   "id": "66c55d44",
   "metadata": {},
   "source": [
    "*Prepared for the course \"TDPS22: Data Science Programming\" at Jönköping University, Teacher: [Marcel Bollmann](mailto:marcel.bollmann@ju.se)*\n",
    "\n",
    "# Assignment 2: Data Science Workflows in R\n",
    "\n",
    "In this assignment, you will analyze city bike usage in Helsinki, Finland.  The data comes from the Helsinki Regional Transport Authority and was compiled into the [Helsinki City Bikes](https://www.kaggle.com/datasets/geometrein/helsinki-city-bikes) dataset by Tigran Khachatryan, licensed under CC BY-SA 4.0.  We are only working with _a small, sampled subset_ of the data here (the full dataset is almost 2 GB!).  Additionally, we use weather observations from the [Finnish Meteorological Institute](https://en.ilmatieteenlaitos.fi/download-observations), licensed under CC BY 4.0.\n",
    "\n",
    "### Instructions\n",
    "\n",
    "- The assignment is structured into parts, each of which consists of one or more tasks and/or questions.  You should provide your code to arrive at the solutions _directly below_ the respective task/question in this notebook.  You can add as many cells as you want and perform as many intermediate steps as you want, but **the last output of each task/question should clearly show the answer** to that task or question.\n",
    "\n",
    "\n",
    "- You are allowed to consult any resources (books/websites/exercises), but each assignment group should **work on the assignment on their own.**   You may ask questions about specific R/Tidyverse/ggplot2/etc. functionality or about the exercises on Canvas, but **you may _not_ directly share answers for tasks in this assignment.**\n",
    "\n",
    "\n",
    "- You should **submit your finished assignment as a single Jupyter notebook (.ipynb) _or_ R Markdown (.Rmd) file** through Canvas. ***Before you submit,*** make sure that your notebook runs correctly from start to finish. In Jupyter Notebook, you can do this by going to the menu, choosing \"Kernel\", then \"Restart & Run All\", and verify that all cells show the expected output. With R Markdown, you can do this by \"Knitting\" your document to HTML or PDF, and verifying that everything looks as expected.\n",
    "\n",
    "\n",
    "### Grading\n",
    "\n",
    "- This assignment is graded Pass/Fail.\n",
    "\n",
    "\n",
    "- In order of importance, the criteria for passing are **demonstrating an understanding** of how to implement data science tasks in R, **correctness** of the solution, as well as **clean coding style**. You do _not_ need to find the \"shortest\" or \"most elegant\" solution to each problem. It is more important that you show an understanding of how to manipulate, visualize, and model data in R; arrive at a correct solution; and that I can understand your reasoning for what you did and why you did it. I encourage you to _use comments in your code_ to explain your approach when the code gets more complex.\n",
    "\n",
    "\n",
    "- To _pass_ this assignment, you must provide a solution for _all of the tasks below_.  You can still pass if some of your solutions are not entirely correct or lacking in coding style, as long as they show a general understanding of how to approach the problem.\n",
    "\n",
    "- - -"
   ]
  },
  {
   "cell_type": "code",
   "execution_count": null,
   "id": "edbe9266-28b5-470f-95e8-237badfeb703",
   "metadata": {},
   "outputs": [],
   "source": [
    "### SETUP -- You do NOT need to modify this cell, but you may add your own imports later\n",
    "library(tidyverse)\n",
    "library(lubridate)\n",
    "\n",
    "bikes <- read_csv(\"data/helsinki-city-bikes-sample.csv\")\n",
    "weather <- read_csv(\"data/helsinki-weather.csv\")"
   ]
  },
  {
   "cell_type": "markdown",
   "id": "2d589ed7",
   "metadata": {},
   "source": [
    "- - -\n",
    "\n",
    "## Part 1: Tidy up and merge the datasets!\n",
    "\n",
    "You are given two datasets, `bikes` and `weather`, containing observations from April 2019 to October 2019.\n",
    "\n",
    "The `bikes` dataset contains usage data from Helsinki city bikes, with the following columns:\n",
    "\n",
    "- `departure`: timestamp of departure, i.e., when a city bike was borrowed\n",
    "- `return`: timestamp of return, i.e., when the city bike was returned\n",
    "- `departure_name` and `return_name`: names of the city bike stations where the bike was borrowed and returned\n",
    "- `distance (m)`: the distance between the departure station and return station\n",
    "- `avg_speed (km/h)`: the average speed of the bike trip\n",
    "\n",
    "The `weather` dataset contains daily observations from the \"Helsinki Kaisaniemi\" weather station, with the following columns:\n",
    "\n",
    "- `Year`, `m`, `d`: the year, month, and day of the observation\n",
    "- `Precipitation amount (mm)`: the amount of precipitation, i.e., rain or snow fall, in millimeters\n",
    "- `Air temperature (degC)`: the average air temperature in °C\n",
    "\n",
    "### Tasks\n",
    "\n",
    "- <span class=\"badge\">Task</span> **Determine if the datasets are in \"tidy\" format, and convert them if needed!** Write a short paragraph with your reasoning _why_ or _why not_ the datasets are in \"tidy\" format. If they are not, provide your code to convert them."
   ]
  },
  {
   "cell_type": "code",
   "execution_count": null,
   "id": "d1550c7f",
   "metadata": {},
   "outputs": [],
   "source": [
    "# YOUR SOLUTION HERE"
   ]
  },
  {
   "cell_type": "markdown",
   "id": "ae1dec4c",
   "metadata": {},
   "source": [
    "- <span class=\"badge\">Task</span> **Analyze the data for missing or unusual values and clean them up, if needed!** Are there NAs or otherwise missing values? Are there values that don't make sense? If there are, decide how to deal with them – e.g., drop some rows, modify the values, etc. – and explain your reasoning."
   ]
  },
  {
   "cell_type": "code",
   "execution_count": null,
   "id": "a9211df6",
   "metadata": {},
   "outputs": [],
   "source": [
    "# YOUR SOLUTION HERE"
   ]
  },
  {
   "cell_type": "markdown",
   "id": "6b4d47bd",
   "metadata": {},
   "source": [
    "- <span class=\"badge\">Task</span> **Merge the weather observations into the bikes dataset!** Make new columns for the weather observations (`Precipitation amount (mm)` and `Air temperature (degC)`) in the `bikes` dataset and fill them with appropriate data from the date of the bike trip."
   ]
  },
  {
   "cell_type": "code",
   "execution_count": null,
   "id": "820d99f3",
   "metadata": {},
   "outputs": [],
   "source": [
    "# YOUR SOLUTION HERE"
   ]
  },
  {
   "cell_type": "markdown",
   "id": "ee720e2c",
   "metadata": {},
   "source": [
    "- - -\n",
    "\n",
    "## Part 2: Answer questions about the data distribution!\n",
    "\n",
    "Here, we are going to look into the distribution of individual variables in the dataset. Your aim is to get a better understanding of the data by answering questions about it.\n",
    "\n",
    "- <span class=\"badge\">Task</span> **What is the minimum, average, and maximum _distance_ of a bike ride? Also produce a visualization to show the _distribution_ of the \"distance\" variable.**"
   ]
  },
  {
   "cell_type": "code",
   "execution_count": null,
   "id": "cf7d3224",
   "metadata": {},
   "outputs": [],
   "source": [
    "# YOUR SOLUTION HERE"
   ]
  },
  {
   "cell_type": "markdown",
   "id": "da8f4a80",
   "metadata": {},
   "source": [
    "- <span class=\"badge\">Task</span> **Perform the same analysis for the _average speed_ of a bike ride.**"
   ]
  },
  {
   "cell_type": "code",
   "execution_count": null,
   "id": "a39670c2",
   "metadata": {},
   "outputs": [],
   "source": [
    "# YOUR SOLUTION HERE"
   ]
  },
  {
   "cell_type": "markdown",
   "id": "4f67e822",
   "metadata": {},
   "source": [
    "- <span class=\"badge\">Task</span> **Perform the same analysis for the _duration_ of a bike ride.** You need to calculate the duration first based on departure and return times; make a new column for this in the dataset."
   ]
  },
  {
   "cell_type": "code",
   "execution_count": null,
   "id": "0fbc8eca",
   "metadata": {},
   "outputs": [],
   "source": [
    "# YOUR SOLUTION HERE"
   ]
  },
  {
   "cell_type": "markdown",
   "id": "96788bb0",
   "metadata": {},
   "source": [
    "- <span class=\"badge\">Task</span> **Sanity-check the _average speed_ column.** From the _distance_ and _duration_, you should be able to calculate the _average speed_ of the bike ride yourself. Do this and check if your results match what the dataset already provides in the `avg_speed (km/h)` column."
   ]
  },
  {
   "cell_type": "code",
   "execution_count": null,
   "id": "eecf82fe",
   "metadata": {},
   "outputs": [],
   "source": [
    "# YOUR SOLUTION HERE"
   ]
  },
  {
   "cell_type": "markdown",
   "id": "e3c3be15",
   "metadata": {},
   "source": [
    "- <span class=\"badge\">Task</span> **How many _stations_ are there in total in the city bike network?** Consider both stations used for departure and return."
   ]
  },
  {
   "cell_type": "code",
   "execution_count": null,
   "id": "d36b2faf",
   "metadata": {},
   "outputs": [],
   "source": [
    "# YOUR SOLUTION HERE"
   ]
  },
  {
   "cell_type": "markdown",
   "id": "97f6a7c7",
   "metadata": {},
   "source": [
    "- <span class=\"badge\">Task</span> **What are the _three most popular departure stations_?** You can use a visualization, a function (pipeline), or both to answer this question."
   ]
  },
  {
   "cell_type": "code",
   "execution_count": null,
   "id": "2e1518c0",
   "metadata": {},
   "outputs": [],
   "source": [
    "# YOUR SOLUTION HERE"
   ]
  },
  {
   "cell_type": "markdown",
   "id": "88e7cc35",
   "metadata": {},
   "source": [
    "- - -\n",
    "\n",
    "## Part 3: What affects the number of daily city bike rides?\n",
    "\n",
    "In this part, we are interested in analyzing _how many bike rides per day_ there are in our dataset, and what factors affect how many bike rides people make on a given day.\n",
    "\n",
    "- <span class=\"badge\">Task</span> **Visualize the number of bike rides people make by day!** Your visualization should be a line plot that shows the date on the $x$-axis and the number of rides on that date on the $y$-axis."
   ]
  },
  {
   "cell_type": "code",
   "execution_count": null,
   "id": "542e904d",
   "metadata": {},
   "outputs": [],
   "source": [
    "# YOUR SOLUTION HERE"
   ]
  },
  {
   "cell_type": "markdown",
   "id": "7e53c62c",
   "metadata": {},
   "source": [
    "- <span class=\"badge\">Task</span> **Add a smoothed curve (e.g. using polynomial regression) on top of your visualization!**"
   ]
  },
  {
   "cell_type": "code",
   "execution_count": null,
   "id": "7f0c2ef9",
   "metadata": {},
   "outputs": [],
   "source": [
    "# YOUR SOLUTION HERE"
   ]
  },
  {
   "cell_type": "markdown",
   "id": "0a263e97",
   "metadata": {},
   "source": [
    "- <span class=\"badge\">Task</span> **Plot and analyze the distribution of bike rides _by day of the week_!** What days have the highest average usage of city bikes? What days have the lowest?"
   ]
  },
  {
   "cell_type": "code",
   "execution_count": null,
   "id": "bdb25a79",
   "metadata": {},
   "outputs": [],
   "source": [
    "# YOUR SOLUTION HERE"
   ]
  },
  {
   "cell_type": "markdown",
   "id": "576ee200",
   "metadata": {},
   "source": [
    "- <span class=\"badge\">Task</span> **Analyze which of the following variables best explains the number of daily bike rides:**\n",
    "    - **_day of the week_** (i.e., Monday, Tuesday, ...);\n",
    "    - **_precipitation_ on that day**; _or_\n",
    "    - **_temperature_ on that day?**\n",
    "\n",
    "  In other words, do people bike less when it's cold? Is it more important whether it rains or not? Or do Helsinki residents bike in all weather conditions equally, as long as they need to get to work?\n",
    "\n",
    "  You can use any type and combination of visualizations, statistical models, or statistical analyses that you like. At the end of your analysis, please **write a few sentences** with your interpretation of the analysis."
   ]
  },
  {
   "cell_type": "code",
   "execution_count": null,
   "id": "e43ead5c",
   "metadata": {},
   "outputs": [],
   "source": [
    "# YOUR SOLUTION HERE"
   ]
  },
  {
   "cell_type": "markdown",
   "id": "9ef5b78b",
   "metadata": {},
   "source": [
    "- - -\n",
    "\n",
    "## Part 4: Visualize the number of bike rides based on _time of the day_ and _whether it is a weekend_!\n",
    "\n",
    "In this final part, we want to produce a visualization that allows us to see the number of bike rides based two variables:\n",
    "\n",
    "- **_time of day_**: the ride's departure time, **rounded down to 15-minute intervals.** For example:\n",
    "  - If departure is `2019-05-06 07:31:47`, the \"time of day\" is `07:30`.\n",
    "  - If departure is `2019-04-22 11:55:04`, the \"time of day\" is `11:45`.\n",
    "  \n",
    "  _(Note: You might want to create a function to produce this \"time of day\" first. If you cannot do this, you can start by just rounding down to full hours first.)_\n",
    "  \n",
    "  \n",
    "- **_weekdays vs. weekend_**: a ride is considered to be on a weekend if its departure is on a Saturday or Sunday; otherwise, is it considered to be a \"weekday\". _(You can ignore public holidays etc. for this task.)_\n",
    "\n",
    "\n",
    "The visualization should show the _time of day_ on one axis, the _number of rides_ on another axis, and use a third layout element to distinguish _weekdays vs. weekend_ (e.g., two different lines, or differently-colored bars).\n",
    "\n",
    "Additionally, the visualization needs to include **proper titles on the axes** as well as **a legend showing which elements correspond to _weekdays_ vs. _weekends_**.  In other words, prepare the visualization as you would for a poster or a presentation.\n",
    "\n",
    "\n",
    "- <span class=\"badge\">Task</span> **Produce a visualization as described above!** Include all code necessary to reproduce your visualization, i.e. including all intermediate steps, below."
   ]
  },
  {
   "cell_type": "code",
   "execution_count": null,
   "id": "0165baf9",
   "metadata": {},
   "outputs": [],
   "source": [
    "# YOUR SOLUTION HERE"
   ]
  }
 ],
 "metadata": {
  "kernelspec": {
   "display_name": "R",
   "language": "R",
   "name": "ir"
  },
  "language_info": {
   "codemirror_mode": "r",
   "file_extension": ".r",
   "mimetype": "text/x-r-source",
   "name": "R",
   "pygments_lexer": "r",
   "version": "4.0.5"
  }
 },
 "nbformat": 4,
 "nbformat_minor": 5
}
